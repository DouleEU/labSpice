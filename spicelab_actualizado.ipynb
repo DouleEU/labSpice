{
 "cells": [
  {
   "cell_type": "code",
   "execution_count": 1,
   "metadata": {},
   "outputs": [],
   "source": [
    "#!/usr/bin/env python3\n",
    "#coding=utf8"
   ]
  },
  {
   "cell_type": "markdown",
   "metadata": {},
   "source": [
    " # Objetivo del laboratorio\n",
    " El objetivo de la presenta práctica es conocer el estándar de simulación de circuitos [SPICE](http://bwrcs.eecs.berkeley.edu/Classes/IcBook/SPICE) y realizar pequeñas simulaciones en corriente continua con el mismo. SPICE es una forma elegante y sencilla de codificar circuitos eléctricos de manera que puedan ser procesados por un ordenador. Mediante un sencillo lenguaje podemos definir resistencias, fuentes de alimentación, etc., las conexiones entre ellos y los resultados que deseamos obtener."
   ]
  },
  {
   "cell_type": "markdown",
   "metadata": {},
   "source": [
    " # El estándar SPICE\n",
    " **SPICE** es una abreviabiación de *Simulation Program with Integrated Circtuit Emphasis*.\n",
    " Se trata básicamente de un método estándar para describir circuitos usando texto plano en\n",
    " lugar de una representación gráfica (o *esquemática*). A esta descripción en texto se\n",
    " la llama también **netlist** y básicamente se corresponde con la *lista* de los componentes del circuito y cómo estos están conectados entre sí, es decir, de los nodos de unión.\n",
    " Los ficheros netlist pueden tener extensiones `.cir`, `.net`, `.ckt`, ó `.sp` y es muy común encontrárselos con cualquiera de estas.\n",
    "\n",
    " Existen en el mercado muchas variantes (intérpretes) de Spice, aunque el original fue descrito\n",
    " en la Universidad de Berkeley. En la lista de intérpretes de Spice tenemos desde esfuerzos y proyectos comerciales hasta *open source* y regidos por distintas comunidades de usuarios y programadores."
   ]
  },
  {
   "cell_type": "markdown",
   "metadata": {},
   "source": [
    "> **Pregunta 1:** Enumera todos los intérpretes de Spice que puedas encontrar. Crea una tabla en Markdown con varias columnas (para el nombre, fabricante, versión actual, licencia y alguna característica sobresaliente). Aquí tienes un ejemplo del que puedes partir y seguir completando:\n"
   ]
  },
  {
   "cell_type": "markdown",
   "metadata": {},
   "source": [
    "| Nombre      | Fabricante    |Versión actual |Licencia  | Características de interés                          \n",
    "|:-----------|:-------------|:---------------|:----------:|:----------------------------\n",
    "|Ahkab        |Giuseppe Venturini     |   0.18    |   GPL    |Basado en Python                                     \n",
    "|OrCAD        |MicroSim (Adquirida por OrCAD)| 17.4  |Comercial |Fue la 1ª versión comercial de Berkeley SPICE para PC\n",
    "| HSpice       |Synopsis |M-2017.04 |Comercial |Synopsys HSPICE es un simulador optimizador de circuito analógico. Puedes usarlo para simular circuitos eléctricos en dominios de frecuencia, transitorios y de estado estacionario.\n",
    "| Prometeus Design Suite |Prometeus||Comercial|Proteus Virtual System Modelling (VSM) combina la simulación SPICE de modo mixto con la simulación de microcontroladores.\n",
    "| gEDA |Ales Hvezda et al. |1.8.2 | GNU GPL |gEDA es un entorno de software para la automatización de diseño electrónico.\n",
    "| MacSpice |Charles D. H. Williams| 3 | free of charge |MacSpice simula y analiza circuitos electrónicos que pueden variar en complejidad.\n",
    "|Spice OPUS| Universidad de Ljubljana, (Eslovenia)| |Freeware| Basado en los estandares UC Berkeley's SPICE 3f4 y Georgia Tech Research Institute's XSPICE |\n",
    "|LTspice      |Linear Technology, Analog Devices|XVII|Freeware  |LTspice® es un software de simulación SPICE de alto rendimiento, captura esquemática y visor de formas de onda con mejoras y modelos para facilitar la simulación de circuitos analógicos.  \n",
    "|ngspice|ngspice project |ngspice-33|BSD|Es un simulador de circuito electrónico de nivel mixto / señal mixta."
   ]
  },
  {
   "cell_type": "markdown",
   "metadata": {},
   "source": [
    " > **Pregunta 2:** ¿Qué comparación puedes efectuar entre C y Spice como estándares (lenguajes) y sus respectivas implementaciones en software? ¿Qué implementaciones reales (compiladores) del lenguaje C conoces? "
   ]
  },
  {
   "cell_type": "markdown",
   "metadata": {},
   "source": [
    "Existen grandes diferencias entre los estándares de ambos lenguajes, ya que si bien, ambos cuentan con una extandarización a nivel mundial, sus propósitos son muy diferentes.\n",
    "\n",
    "Podríamos decir C es un lenguaje de propósito general, orientado especialmente a la implementación de sistemas operativos, SPICE por su parte \n",
    "tiene como objetivo la simulación de circuitos electrónicos.\n",
    "\n",
    "La cantidad de compiladores de C disponibles en la actualidad realmente amplia, en la tabla "
   ]
  },
  {
   "cell_type": "markdown",
   "metadata": {},
   "source": [
    "### Compiladores del lenguaje C\n",
    "\n",
    "| Nombre   |Datos de interes\n",
    "|:---------|:------\n",
    "|Microsoft Visual C++|https://visualstudio.microsoft.com/es/vs/features/cplusplus/\n",
    "|Intel C++ Compiler|https://software.intel.com/content/www/us/en/develop/tools/compilers.html\n",
    "|GCC|https://gcc.gnu.org/\n",
    "|Dev-C++|http://www.bloodshed.net/\n",
    "|Borland C++ compiler|https://en.wikipedia.org/wiki/Borland_C%2B%2B\n",
    "|OnlineGDB|https://www.onlinegdb.com/online_c_compiler\n",
    "|paiza.IO |https://paiza.io/es/languages/online-c-compiler\n",
    "|Programiz C Online Compiler | https://www.programiz.com/c-programming/online-compiler/\n",
    "\n"
   ]
  },
  {
   "cell_type": "markdown",
   "metadata": {},
   "source": [
    " ## Elementos de un netlist\n",
    " Como acabamos de comentar, un netlist se corresponde con la codificación de los elementos electrónicos de un circuito y las uniones entre los mismos. Veamos con más concreción qué partes y secciones lo componen."
   ]
  },
  {
   "cell_type": "markdown",
   "metadata": {},
   "source": [
    " ## Comentarios\n",
    "\n",
    " La primera línea de un netlist se corresponderá siempre con un comentario. A partir de esta línea se pueden introducir más comentarios pero tienen que ir siempre precedidos de un `*`. Ejemplo:\n",
    " \n",
    " ```spice\n",
    " Mi primer circuito\n",
    " * Otro comentario\n",
    " * más comentarios\n",
    " *\n",
    " ```"
   ]
  },
  {
   "cell_type": "markdown",
   "metadata": {},
   "source": [
    " ## Dispositivos básicos de un circuito\n",
    " Los elementos de un netlist son los mismos que encontramos en cualquier circuito eléctrico sencillo,\n",
    " tales como resistencias, **condensadores**, **bobinas**, **interruptores**, **hilos** y **fuentes** de alimentación.\n",
    " Para distinguir uno de otro, se reserva una letra característica: `V` para fuentes de alimentación, `R` para resistencias, `C` para condensadores y `L` para bobinas. También es posible usar estas letras en su versión en minúscula (`r`, `v`, `c`, `l`, etc.).\n",
    " Después de esta letra característica se puede sufijar cualquier texto para diferenciar un elemento de otro (números, letras, palabras, etc.). Ejemplo:\n",
    "\n",
    " ```\n",
    " * Una resistencia\n",
    " R1\n",
    " *  Otra resistencia\n",
    " R2\n",
    " * Fuente de alimentación\n",
    " V\n",
    " * Un condensador\n",
    " Cprincipal\n",
    " ```"
   ]
  },
  {
   "cell_type": "markdown",
   "metadata": {},
   "source": [
    " ## Conexiones\n",
    " A continuación de indicar el elemento eléctrico, tenemos que informar a Spice cuáles\n",
    " son los puntos de unión tanto a un lado como al otro del elemento.\n",
    " Así es como Spice sabe qué está conectado a qué: porque comparten un **punto**\n",
    " (o **nodo**, aunque este término se reserva sobretodo a uniones de más de dos elementos)\n",
    " que hemos señalizado correctamente. Para nombrar nodos, lo mejor es emplear una\n",
    " numeración secuencial: 0...n. **La enumeración de los puntos de unión es completamente\n",
    " a nuestro criterio**.\n",
    "\n",
    " ```\n",
    " * Una resistencia\n",
    " * entre cables 0 y 1\n",
    " R1 0 1\n",
    " ```\n",
    "\n",
    " **Sólo es necesario seguir un criterio**: en el caso de una\n",
    " fuente de alimentación, el nodo que pondremos primero será\n",
    " aquel que está más cerca del *borne* positivo. Ejemplo:\n",
    "\n",
    " ```spice\n",
    " * Para una fuente indicamos primeramente conexión a nodo positivo.\n",
    " v 2 3 type=vdc vdc=1\n",
    " ```\n",
    " \n",
    "En el *caso de LTspice* no es necesario indicar los parámetros `type=vdc` y `vdc=X`, sino que si no se especifica nada, se supone que el último valor es el del voltaje a corriente continua:\n",
    "\n",
    "```spice\n",
    "* Especificación de una fuente de alimentación de 10 V en corrient continua en el caso de LTspice\n",
    "v 0 1 10\n",
    "```\n",
    "\n",
    "Aquí tienes un ejemplo gráfico de los componentes comentados justo arriba (resistencia y voltaje):\n",
    "\n",
    "![](https://raw.githubusercontent.com/pammacdotnet/spicelab/master/resistencia%20y%20pila%20con%20nodos.svg?sanitize=true)"
   ]
  },
  {
   "cell_type": "markdown",
   "metadata": {},
   "source": [
    "\n",
    " ## Unidades en SPICE\n",
    "\n",
    " Las unidades de las magnitudes características del circuito son siempre [unidades\n",
    " del Sistema Internacional](https://en.wikipedia.org/wiki/SI_electromagnetism_units) y no es necesario indicarlo explícitamente en el netlist.\n",
    "\n",
    " La forma de especificar múltiplos de estas cantidades es añadiendo una letra.\n",
    " Básicamente las que nos interesan y las que suelen aparecer mayoritariamente son `k` para \"kilo-,\" `m` para \"mili?\" y `u` para \"micro?\".\n"
   ]
  },
  {
   "cell_type": "markdown",
   "metadata": {},
   "source": [
    " > **Pregunta 3:** Crea una tabla en Markdown con todos los prefijos de múltiplos que puedas, su abreviatura y su equivalencia numérica."
   ]
  },
  {
   "cell_type": "markdown",
   "metadata": {},
   "source": [
    "|  Prefijo  |Símbolo| Equivalencia numérica \n",
    "|:--------: |:-----:|:-------: \n",
    "| yotta | Y     | $ 10^{24} $ \n",
    "| zetta | Z     | $ 10^{21} $   \n",
    "| exa   | E     | $ 10^{18} $\n",
    "| peta  | P     | $ 10^{15} $  \n",
    "| tera  | T     | $ 10^{12} $ \n",
    "| giga  | G     | $ 10^9 $  \n",
    "| mega  | M     | $ 10^6 $ \n",
    "| kilo  | k     | $ 10^3 $    \n",
    "| hecto | h     | $ 10^2 $  \n",
    "| deca  | da    | $ 10^1 $ \n",
    "|       |       | $ 10^0 $\n",
    "| deci  | d     | $ 10^{−1} $ \n",
    "| centi | c     | $ 10^{−2} $   \n",
    "| mili  | m     | $ 10^{−3} $  \n",
    "| micro | μ     | $ 10^{−6} $  \n",
    "| nano  | n     | $ 10^{−9} $  \n",
    "| pico  | p     | $ 10^{−12} $   \n",
    "| femto | f     | $ 10^{−15} $   \n",
    "| atto  | a     | $ 10^{−18} $\n",
    "| zepto | z     | $ 10^{−21} $\n",
    "| yocto | y     | $ 10^{−24} $"
   ]
  },
  {
   "cell_type": "markdown",
   "metadata": {},
   "source": [
    " En el caso de las fuentes de alimentación hemos de especificar si se trata de corriente contínua (`vdc`) o alterna (`ac`).\n",
    "\n",
    " ```\n",
    " * Una resistencia de 5 Ohmios\n",
    " R2 1 0 5\n",
    " * Una pila de 10 Voltios (continua)\n",
    " V1 1 0 type=vdc vdc=10\n",
    " * Una resistencia de 5 kΩ\n",
    " RX 2 4 5k\n",
    " ```"
   ]
  },
  {
   "cell_type": "markdown",
   "metadata": {},
   "source": [
    " > **Pregunta 4**: ¿qué unidades del Sistema Internacional relacionadas con la asignatura –y los circuitos en general– conoces? Responde aquí mismo en una celda de Markdown con una tabla."
   ]
  },
  {
   "cell_type": "markdown",
   "metadata": {},
   "source": [
    "#### Unidades básicas del SI \n",
    "\n",
    " | Símbolo | Nombre | Magnitud  |\n",
    " | :-----: | :----: | :-------: |\n",
    " | s | segundo | tiempo |\n",
    " | m | metro | longitud |\n",
    " | kg | kilogramo | masa |\n",
    " | A | amperio | corriente eléctrica |\n",
    " | K | kelvin | temperatura termodinámica |\n",
    " | mol | mol | cantidad de sustancia|\n",
    " | cd | candela | intensidad luminosa |"
   ]
  },
  {
   "cell_type": "markdown",
   "metadata": {},
   "source": [
    "#### Unidades suplementarias\n",
    "\n",
    " | Símbolo | Nombre | Magnitud  |\n",
    " | :-----: | :----: | :-------: |\n",
    " | rad | radian | ángulo plano |\n",
    " | sr | estereorradian | ángulo sólido |"
   ]
  },
  {
   "cell_type": "markdown",
   "metadata": {},
   "source": [
    "#### Unidades derivadas del SI\n",
    "\n",
    "Unidades de geometría, mecánica y tiempo\n",
    "\n",
    "| Símbolo | Nombre | Magnitud  |\n",
    "| :-----: | :----: | :-------: |\n",
    "| Hz | hercio | frecuencia |\n",
    "| N | newton | fuerza |\n",
    "| Pa | pascal| presión |\n",
    "| J | julio | energía (incluyendo calor)|\n",
    "| W | vatio | potencia y flujo radiante |"
   ]
  },
  {
   "cell_type": "markdown",
   "metadata": {},
   "source": [
    "Unidades electromagnéticas\n",
    "\n",
    "| Símbolo | Nombre | Magnitud  \n",
    "| :-----: | :----: | :------: \n",
    "| C | culombio | carga eléctrica \n",
    "| V | voltio | tensión eléctrica y diferencia de potencial \n",
    "| F | faradio | capacitancia \n",
    "| $ \\Omega $ | ohmio | resistencia eléctrica\n",
    "| S | siemens|conductancia eléctrica\n",
    "| Wb | weber|flujo magnético\n",
    "| T | tesla |campo magnético (densidad de flujo magnético) \n",
    "| H | henrio | inductancia"
   ]
  },
  {
   "cell_type": "markdown",
   "metadata": {},
   "source": [
    "Unidades de termodinámica y química\n",
    "\n",
    "| Símbolo | Nombre | Magnitud  \n",
    "| :-----: | :----: | :------: \n",
    "| $ ^0C $ | grado Celsius | temperatura Celsius\n",
    "| kat | katal | actividad catalítica"
   ]
  },
  {
   "cell_type": "markdown",
   "metadata": {},
   "source": [
    "Unidades radiológicas\n",
    "\n",
    "| Símbolo | Nombre | Magnitud  \n",
    "| :-----: | :----: | :------: \n",
    "| Bq | becquerel | actividad de un radionucleido\n",
    "| Gy | gray | dosis absorbida\n",
    "| Sv | sievert | dosis equivalente"
   ]
  },
  {
   "cell_type": "markdown",
   "metadata": {},
   "source": [
    "Unidades de fotometría\n",
    "\n",
    "| Símbolo | Nombre | Magnitud  \n",
    "| :-----: | :----: | :------: \n",
    "| lm | lumen | flujo luminoso\n",
    "| lx | lux | iluminancia"
   ]
  },
  {
   "cell_type": "markdown",
   "metadata": {},
   "source": [
    "## Valores iniciales\n",
    "\n",
    " Aparecen justo al final de la definición del componente (`ic`). Suelen aplicarse principalmente con condensadores.\n",
    "\n",
    " ```\n",
    " * Una condensador inicialmente no cargado\n",
    " c 1 0 1u ic=0\n",
    " ```"
   ]
  },
  {
   "cell_type": "markdown",
   "metadata": {},
   "source": [
    " ## Fin del circuito\n",
    "\n",
    " El fin de la descripción de un netlist se especifica mediante el\n",
    " comando `.end`.\n",
    "\n",
    " ```spice\n",
    " * Mi primer circuito\n",
    " V 1 0 vdc=10 type=vdc\n",
    " R 1 0 5\n",
    " * Fin del circuito\n",
    " .end\n",
    " ```"
   ]
  },
  {
   "cell_type": "markdown",
   "metadata": {},
   "source": [
    "\n",
    " ## Comandos SPICE para circuitos en corriente continua\n",
    "\n",
    " Además de la descripción del circuito, hemos de indicar al intérprete de Spice qué\n",
    " tipo de análisis queremos realizar en sobre el mismo y cómo queremos presentar\n",
    " la salida de la simulación. Los comandos en Spice empiezan por un `.` y suelen\n",
    " escribirse justo al final del circuito, pero antes del comando `.end`.\n",
    "\n",
    " ```\n",
    "  Mi primer circuito\n",
    " * Aquí van los componentes\n",
    " R 1 0 6k\n",
    " ...\n",
    " * Comandos\n",
    " .op\n",
    " ...\n",
    " * Fin del circuito\n",
    " .end\n",
    " ```"
   ]
  },
  {
   "cell_type": "markdown",
   "metadata": {},
   "source": [
    " > **Pregunta 5**: Hasta lo que has visto del lenguaje Spice, ¿dentro de qué tipo o conjunto de lenguajes encajaría? ¿Funcionales? ¿Específicos de dominio? ¿Procedurales? ¿Estructurados? ¿Orientado a Objetos ¿Funcionales? Justifica tu respuesta. \n"
   ]
  },
  {
   "cell_type": "markdown",
   "metadata": {},
   "source": [
    "Prodríamos catalogar a Spice como un lenguaje específico de dominio, debido a que es un lenguaje orientado a una clase específica de problemas."
   ]
  },
  {
   "cell_type": "markdown",
   "metadata": {},
   "source": [
    "#### Veamos los principales comandos de simulación:\n",
    "\n",
    " - `.op` es el comando más sencillo que podemos emplear en. Devuelve el voltaje e intensidad en cada ramal y componente del circuito. Este comando no necesita parámetros.\n",
    " - `.dc` es uy parecido al comando `.op` pero nos permite cambiar el valor del voltaje de una fuente de alimentación en pasos consecutivos entre el valor A y el valor B.\n",
    " En el caso de que la fuente tuviera asignada ya un valor para su voltaje, este sería ignorado. Ejemplo:\n",
    "\n",
    "\n",
    " ```spice\n",
    " * Variamos el valor del voltaje\n",
    " * de la fuente \"v\" de 1 a 1000\n",
    " * en pasos de 5 voltios\n",
    " v 1 0 type=vdc vdc=10\n",
    " .dc v 1 start=1 stop=1000 step=20\n",
    " v2a 2 4 type=vdc vdc=9\n",
    " * Igual para v2a. Se ignora su voltaje de 9V\n",
    " .dc v2a start=0 stop=10 step=2\n",
    " ```\n",
    "\n",
    " - El comando `.tran` realiza un análisis en el tiempo de los parámetros del\n",
    " circuito. Si no se emplea la directiva `uic` (*use initial conditions*) o esta es igual a cero, este análisis se realiza desde el punto estable de funcionamiento del circuito hasta un tiempo `tfinal`.\n",
    " y en intervalos `tstep`. Si empleamos un varlor distinto para parámetro `uic`,\n",
    " entonces se hará uso de las condiciones iniciales definidas para cada componente\n",
    "  (típicamente `ic=X` en el caso de los condensadores, que da cuenta de la carga incial que estos pudieran tener).\n",
    "\n",
    "\n",
    " ```\n",
    " * Hacemos avanzar el tiempo entre\n",
    " * tinicial y tfinal en pasos tstep\n",
    " .tran tstart=X tstop=Y tstep=Z uic=0/1/2/3\n",
    " ```\n",
    "\n",
    " `X`, `Y` y `Z` tienen, evidentemente unidades de tiempo en el S.I. (segundos)."
   ]
  },
  {
   "cell_type": "markdown",
   "metadata": {},
   "source": [
    " > **Pregunta 6**: El parámetro `uic` puede tener varios valores y cada uno significa una cosa. Detállalo usando un celda Markdown y consultando la [documentación de Ahkab](https://buildmedia.readthedocs.org/media/pdf/ahkab/latest/ahkab.pdf)."
   ]
  },
  {
   "cell_type": "markdown",
   "metadata": {},
   "source": [
    "`uic` (Use Initial conditions): se usa para especificicar el estado del circuito en el momento *t=tstart*, y tiene como valores disponibles el 0, 1,2 o 3.\n",
    "\n",
    "- `uic = 0` Se supondrá que todos los voltajes y corrientes de los nodos a través de las fuentes *v/h/e* son 0 en *t=tstart*\n",
    "- `uic = 1` El estado en *t=tstart* es el último resultado de un análisis *op*.\n",
    "- `uic = 2` El estado en *t=tstart* es el último resultado de un análisis *op* en el que se establecen los valores de corrientes a través de inductores y voltajes en condensadores especificados en su *ic*. Esto se hace muy aproximadamente, se recomienda comprobar.\n",
    "- `uic = 3` Carga un *ic* proporcionada por el usuario. Esto requiere una directica *ic* en algún lugar de la lista de conexiones y tanto el nombre como la etiqueta del *ic* deben coincidir."
   ]
  },
  {
   "cell_type": "markdown",
   "metadata": {},
   "source": [
    " ## Intérprete SPICE que vamos a usar: Ahkab\n",
    " Tras un estándar siempre hay una o varias implementaciones. Ahkab no deja de ser una implementación más en Python del estándar Spice."
   ]
  },
  {
   "cell_type": "markdown",
   "metadata": {},
   "source": [
    " > **Pregunta 7:** Comenta las distintas implementaciones de lenguajes y estándares que conozcas. Hazlo usando una tabla en Markdown. [Aquí](https://www.markdownguide.org/extended-syntax/#tables) tienes un poco de ayuda (aunque antes ya se ha puesto el ejemplo de una tabla)."
   ]
  },
  {
   "cell_type": "markdown",
   "metadata": {},
   "source": [
    "| Nombre corto | Nombre completo  | Implementaciones |Más información\n",
    "| :-----: |:-------------|:--------------- |:---------------------\n",
    "| SMILES  | Simplified Molecular Input Line Entry Specification | OpenSMILES | https://www.daylight.com/dayhtml/doc/theory/theory.smiles.html\n",
    "| InChI   | International Chemical Identifier | InChI.js | http://publications.iupac.org/ci/2006/2806/4_tools.html"
   ]
  },
  {
   "cell_type": "markdown",
   "metadata": {},
   "source": [
    "> **Pregunta 8:** Describe brevemente este software (creador, objetivos, versiones, licencia, características principales, dependencias, etc.)."
   ]
  },
  {
   "cell_type": "markdown",
   "metadata": {},
   "source": [
    "#### OpenSMILES\n",
    "Es una extensión de la especificación original de SMILES desarrollada por David Weinninger en 1980.\n",
    "Su primera versión fue desarrollada en 2007 por la comunidad química open-source [Blue Obelisk](https://blueobelisk.github.io/) \n",
    "\n",
    "\n",
    "#### InChI.js\n",
    "Este software es una transpilación de C a JavaScript, realizada mediante [Emscripten](https://emscripten.org/), desarrollada por la compañía [Metamolecular](https://metamolecular.com/), cuyo objetivo principal es el de poner a disposición de los desarrolladores web una herramienta basada en el estándar InChI creado por [IUPAC](https://iupac.org/)."
   ]
  },
  {
   "cell_type": "markdown",
   "metadata": {},
   "source": [
    " # Trabajo práctico\n",
    " Muy bien, ahora toca definir circuitos y ejecutar simulaciones sobre los mismos gracias a Ahkab."
   ]
  },
  {
   "cell_type": "markdown",
   "metadata": {},
   "source": [
    "\n",
    " ## Instalación de bibliotecas necesarias\n",
    " Si estás utilizando Anaconda, asegúrate de tener su entorno activado:\n",
    " \n",
    " ```cmd\n",
    " C:\\> conda activate base (en el caso de Windows)\n",
    " ```\n",
    " ó\n",
    "\n",
    " ```bash\n",
    " $ source /usr/local/Caskroom/miniconda/base/bin/activate (en el caso de macOS)\n",
    " ```\n",
    "\n",
    "En el caso de Windows tienes que tener en el PATH el directorio donde se encuentre el comando `conda` (visita la sección de [Environment Variables](https://superuser.com/questions/949560/how-do-i-set-system-environment-variables-in-windows-10) del [Panel de Control](https://www.digitalcitizen.life/8-ways-start-control-panel-windows-10)). Si has instalado Anaconda con [esta opción](https://docs.anaconda.com/_images/win-install-options.png) marcada, ya no tienes que preocuparte por ello. \n",
    "\n",
    "En el caso de usar Visual Studio Code, este puede encontrar automáticamente la distintas distribuciones de Python que tengamos instaladas y si abrimos un terminal, este se adaptará automáticamente al entorno Python que hayamos seleccionado. La configuración de Python en VS Code está bien explicada su [documentación](https://code.visualstudio.com/docs/python/python-tutorial).\n",
    "\n",
    "![](https://raw.githubusercontent.com/microsoft/vscode-python/main/images/InterpreterSelectionZoom.gif)\n",
    "\n",
    "Ahora ya puedes instalar Ahkab:\n",
    "\n",
    " ```\n",
    " (base) $ pip install ahkab\n",
    " ``` "
   ]
  },
  {
   "cell_type": "markdown",
   "metadata": {},
   "source": [
    "También puedes instalar Ahkab directamente desde este mismo notebook:"
   ]
  },
  {
   "cell_type": "code",
   "execution_count": 2,
   "metadata": {},
   "outputs": [
    {
     "name": "stdout",
     "output_type": "stream",
     "text": [
      "Requirement already satisfied: ahkab in c:\\users\\domingo\\anaconda3\\lib\\site-packages (0.18)\n",
      "Requirement already satisfied: scipy>=0.14.0 in c:\\users\\domingo\\anaconda3\\lib\\site-packages (from ahkab) (1.5.2)\n",
      "Requirement already satisfied: sympy>=0.7.6 in c:\\users\\domingo\\anaconda3\\lib\\site-packages (from ahkab) (1.6.2)\n",
      "Requirement already satisfied: numpy>1.7.0 in c:\\users\\domingo\\anaconda3\\lib\\site-packages (from ahkab) (1.19.2)\n",
      "Requirement already satisfied: tabulate>=0.7.3 in c:\\users\\domingo\\anaconda3\\lib\\site-packages (from ahkab) (0.8.7)\n",
      "Requirement already satisfied: mpmath>=0.19 in c:\\users\\domingo\\anaconda3\\lib\\site-packages (from sympy>=0.7.6->ahkab) (1.1.0)\n"
     ]
    }
   ],
   "source": [
    "!pip install ahkab"
   ]
  },
  {
   "cell_type": "markdown",
   "metadata": {},
   "source": [
    "\n",
    " Como siempre, una vez instalado cualquier framework para Python, ya lo podemos utilizar, tanto desde el [REPL](https://en.wikipedia.org/wiki/Read–eval–print_loop) como desde un entorno Jupyter (Jupyter, [Jupyterlab](http://jupyterlab.readthedocs.io/en/stable/), VS Code o nteract). Recuerda que para usar el kernel Python (que viene con Anaconda) desde nteract debes seguir las instrucciones que se indican en su [documentación oficial](https://nteract.io/kernels). "
   ]
  },
  {
   "cell_type": "markdown",
   "metadata": {},
   "source": [
    "Como vamos a pintar algunas gráficas, necesitamos instlar [matplotlib](https://matplotlib.org). Al igual que con Ahkab, esto lo podemos hacer directamente desde este mismo notebook. Si hemos usado Anaconda: "
   ]
  },
  {
   "cell_type": "code",
   "execution_count": 3,
   "metadata": {},
   "outputs": [
    {
     "name": "stdout",
     "output_type": "stream",
     "text": [
      "Collecting package metadata (current_repodata.json): ...working... done\n",
      "Solving environment: ...working... done\n",
      "\n",
      "# All requested packages already installed.\n",
      "\n"
     ]
    }
   ],
   "source": [
    "!conda install -y -c conda-forge matplotlib"
   ]
  },
  {
   "cell_type": "code",
   "execution_count": 4,
   "metadata": {
    "execution": {
     "iopub.execute_input": "2020-12-04T16:31:38.612Z",
     "iopub.status.busy": "2020-12-04T16:31:38.592Z",
     "iopub.status.idle": "2020-12-04T16:31:44.372Z",
     "shell.execute_reply": "2020-12-04T16:31:44.448Z"
    }
   },
   "outputs": [
    {
     "name": "stderr",
     "output_type": "stream",
     "text": [
      "W: Locale appears not set! please export LANG=\"en_US.UTF-8\" or equivalent, \n",
      "W: or ahkab's unicode support is broken.\n"
     ]
    }
   ],
   "source": [
    "import pylab as plt\n",
    "import ahkab"
   ]
  },
  {
   "cell_type": "markdown",
   "metadata": {},
   "source": [
    " \n",
    " > **Pregunta 9:** ¿Qué es y para qué sirve PyLab?"
   ]
  },
  {
   "cell_type": "markdown",
   "metadata": {},
   "source": [
    "PyLab es una suite de librerías Python que incluye entre otras a numpy, sympy, pandas, matplotlib o ipython, y que permite el uso del interprete de Python como si de MatLab se tratara."
   ]
  },
  {
   "cell_type": "markdown",
   "metadata": {},
   "source": [
    "\n",
    " ## Circuitos sencillos para trabjar con la ley de Ohm:\n",
    "\n",
    " La *mal llamada* ley de Ohm reza que el voltaje (la *energía por unidad de carga*) que se disipa en un tramo de un circuito eléctrico es equivalente a la intensidad ($I$) de la corriente (es decir, cuántos electrones circulan por unidad de tiempo) por la resistencia del material ($R$) en el que está desplazándose dicha corriente. Matemáticamente:\n",
    "\n",
    " $$\n",
    " V = I\\cdot R\n",
    " $$\n",
    " "
   ]
  },
  {
   "cell_type": "markdown",
   "metadata": {},
   "source": [
    "> **Pregunta 10:** comprueba que la ecuación anterior está ajustada a nivel dimensional, es decir, que la naturaleza de lo que está a ambos lados del signo igual es la misma. Realiza este ejercicio con LaTeX en una celda Markdown."
   ]
  },
  {
   "cell_type": "markdown",
   "metadata": {},
   "source": [
    "Expresando la ecuación en función de sus unidades tenemos:\n",
    "\n",
    "$$ \n",
    "V = A \\cdot \\Omega\n",
    "$$ \n",
    "\n",
    "que expresada en unidades básicas quedaría como se muestra a continuación: \n",
    "\n",
    "$$ \n",
    "\\mathrm{m^2 \\cdot kg \\cdot s^{-3} \\cdot A^{-1}} = A \\cdot \\mathrm{m^2 \\cdot kg \\cdot s^{-3} \\cdot A^{-2}} \n",
    "$$\n",
    "\n",
    "operando sobre la misma podemos observar que la ecuación está ajustada a nivel dimensional.\n",
    "\n",
    "$$\n",
    "\\mathrm{m^2 \\cdot kg \\cdot s^{-3} \\cdot A^{-1}} = \\mathrm{m^2 \\cdot kg \\cdot s^{-3} \\cdot A^{-1}}\n",
    "$$"
   ]
  },
  {
   "cell_type": "markdown",
   "metadata": {},
   "source": [
    "Comencemos con el circuito más sencillo posible de todos:\n",
    "\n",
    " ![](https://raw.githubusercontent.com/pammacdotnet/spicelab/master/primer%20circuito.svg?sanitize=true)\n",
    "\n",
    " Vamos a escribir su contenido (componentes o *netlist*) en disco con el nombre `circuito sencillo.sp`. Esto lo podemos lograr directamente y en tiempo real desde una celda de Jupyter gracias a los *comandos mágicos* de este entorno de programación literaria. En concreto vamos a utilizar `%%writefile` que guarda los contenidos de una celda como un fichero. "
   ]
  },
  {
   "cell_type": "code",
   "execution_count": 5,
   "metadata": {
    "execution": {
     "iopub.execute_input": "2020-12-04T16:31:49.743Z",
     "iopub.status.busy": "2020-12-04T16:31:49.729Z",
     "iopub.status.idle": "2020-12-04T16:31:49.773Z",
     "shell.execute_reply": "2020-12-04T16:31:49.784Z"
    }
   },
   "outputs": [
    {
     "name": "stdout",
     "output_type": "stream",
     "text": [
      "Overwriting circuito_sencillo.sp\n"
     ]
    }
   ],
   "source": [
    "%%writefile \"circuito_sencillo.sp\"\n",
    "* Este es un circuito sencillo\n",
    "r1 1 0 100\n",
    "v1 0 1 type=vdc vdc=9\n",
    ".op\n",
    ".dc v1 start=0 stop=9 step=1\n",
    ".end"
   ]
  },
  {
   "cell_type": "markdown",
   "metadata": {},
   "source": [
    "Ahora vamos a leer su descripción con Ahkab, interpretar y ejecutar las simulaciones que en él estén descritas."
   ]
  },
  {
   "cell_type": "code",
   "execution_count": 6,
   "metadata": {
    "execution": {
     "iopub.execute_input": "2020-12-04T16:31:53.016Z",
     "iopub.status.busy": "2020-12-04T16:31:53.003Z",
     "iopub.status.idle": "2020-12-04T16:31:53.038Z",
     "shell.execute_reply": "2020-12-04T16:31:53.050Z"
    }
   },
   "outputs": [],
   "source": [
    "circuito_y_análisis = ahkab.netlist_parser.parse_circuit('circuito_sencillo.sp')"
   ]
  },
  {
   "cell_type": "markdown",
   "metadata": {},
   "source": [
    " Separamos la información del netlist (componentes) de los análisis (uno de tipo `op` y otro de tipo `dc`):"
   ]
  },
  {
   "cell_type": "code",
   "execution_count": 7,
   "metadata": {
    "execution": {
     "iopub.execute_input": "2020-12-04T16:32:03.818Z",
     "iopub.status.busy": "2020-12-04T16:32:03.807Z",
     "iopub.status.idle": "2020-12-04T16:32:03.844Z",
     "shell.execute_reply": "2020-12-04T16:32:03.856Z"
    }
   },
   "outputs": [
    {
     "name": "stdout",
     "output_type": "stream",
     "text": [
      "[{'type': 'op', 'guess': True, 'x0': None}, {'type': 'dc', 'source': 'v1', 'start': 0.0, 'stop': 9.0, 'step': 1.0, 'sweep_type': 'LIN'}]\n"
     ]
    }
   ],
   "source": [
    "circuito = circuito_y_análisis[0]\n",
    "análisis_en_netlist = circuito_y_análisis[1]\n",
    "lista_de_análisis = ahkab.netlist_parser.parse_analysis(circuito, análisis_en_netlist)\n",
    "print(lista_de_análisis)\n"
   ]
  },
  {
   "cell_type": "markdown",
   "metadata": {},
   "source": [
    "> **Pregunta 11:** ¿qué tipo de estructura de Python es `lista_de_análisis`?"
   ]
  },
  {
   "cell_type": "code",
   "execution_count": 8,
   "metadata": {},
   "outputs": [
    {
     "data": {
      "text/plain": [
       "list"
      ]
     },
     "execution_count": 8,
     "metadata": {},
     "output_type": "execute_result"
    }
   ],
   "source": [
    "type(lista_de_análisis)"
   ]
  },
  {
   "cell_type": "markdown",
   "metadata": {},
   "source": [
    "Es tipo de estructura Python de `lista_de_análisis` es **una lista**."
   ]
  },
  {
   "cell_type": "markdown",
   "metadata": {},
   "source": [
    "\n",
    " Las simulaciones que implican listas de datos (`.dc`, `.tran`, etc.) necesitan de un fichero temporal (`outfile`)\n",
    " donde almacenar los resultados. Para ello tenemos que definir la propiedad `outfile`."
   ]
  },
  {
   "cell_type": "code",
   "execution_count": 9,
   "metadata": {
    "execution": {
     "iopub.execute_input": "2020-12-04T16:32:06.529Z",
     "iopub.status.busy": "2020-12-04T16:32:06.517Z",
     "iopub.status.idle": "2020-12-04T16:32:06.547Z",
     "shell.execute_reply": "2020-12-04T16:32:06.559Z"
    }
   },
   "outputs": [],
   "source": [
    "lista_de_análisis[1]['outfile'] = \"simulación_dc.tsv\""
   ]
  },
  {
   "cell_type": "markdown",
   "metadata": {},
   "source": [
    " > **Pregunta 12:** escribe el código Python necesario para identificar qué análisis de `lista_de_análisis`\n",
    " son de tipo `dc` ó `tran` y sólo añadir la propiedad `outfile` en estos casos.\n",
    "Aquí tenéis un post de Stackoverflow con algo de [ayuda](https://stackoverflow.com/questions/49194107/how-to-find-index-of-a-dictionary-key-value-within-a-list-python).\n",
    " Un poco más de ayuda: el siguiente código (sí, una única línea) devuelve el índice de la simulación que es de tipo `dc`. Para simplificar un poco el ejercicio, suponed que, como máximo, habrá un análisis de tipo `tran` y/o `dc`."
   ]
  },
  {
   "cell_type": "code",
   "execution_count": 10,
   "metadata": {},
   "outputs": [
    {
     "data": {
      "text/plain": [
       "1"
      ]
     },
     "execution_count": 10,
     "metadata": {},
     "output_type": "execute_result"
    }
   ],
   "source": [
    "[i for i, d in enumerate(lista_de_análisis) if \"dc\"  in d.values()][0] "
   ]
  },
  {
   "cell_type": "markdown",
   "metadata": {},
   "source": [
    "Resolución del ejercicio:"
   ]
  },
  {
   "cell_type": "code",
   "execution_count": 11,
   "metadata": {},
   "outputs": [],
   "source": [
    "lista_de_análisis[[i for i, d in enumerate(lista_de_análisis) if \"dc\" or \"tran\" in d.values()][0]]['outfile'] = \"simulación dc-tran.tsv\""
   ]
  },
  {
   "cell_type": "markdown",
   "metadata": {},
   "source": [
    "Una vez que ya hemos separado netlists de simulaciones, ahora ejecutamos las segundas (¡todas a la vez!) gracias al método `.run` de Ahkab: "
   ]
  },
  {
   "cell_type": "code",
   "execution_count": 12,
   "metadata": {},
   "outputs": [
    {
     "name": "stdout",
     "output_type": "stream",
     "text": [
      "Starting op analysis:\n",
      "Calculating guess: skipped. (linear circuit)\n",
      "Solving...   done.\n",
      "Solving...   done.\n",
      "Difference check within margins.\n",
      "(Voltage: er=0.001, ea=1e-06, Current: er=0.001, ea=1e-09)\n",
      "Starting DC analysis:\n",
      "Solving...  done\n"
     ]
    }
   ],
   "source": [
    "resultados = ahkab.run(circuito, lista_de_análisis)"
   ]
  },
  {
   "cell_type": "markdown",
   "metadata": {},
   "source": [
    "### Resultados de la simulación `.dc`\n",
    "Imprimimos información sobre la simulación de tipo `.dc`:"
   ]
  },
  {
   "cell_type": "code",
   "execution_count": 13,
   "metadata": {},
   "outputs": [
    {
     "name": "stdout",
     "output_type": "stream",
     "text": [
      "<DC simulation results for '* este es un circuito sencillo' (netlist circuito_sencillo.sp). LIN sweep of V1 from 0 to 9 V. Run on 2021-01-04 20:28:02, data file simulación_dc.tsv>\n"
     ]
    }
   ],
   "source": [
    "print(resultados['dc'])"
   ]
  },
  {
   "cell_type": "markdown",
   "metadata": {},
   "source": [
    " Veamos qué variables podemos dibujar para el caso del análisis `dc`."
   ]
  },
  {
   "cell_type": "code",
   "execution_count": 14,
   "metadata": {},
   "outputs": [
    {
     "name": "stdout",
     "output_type": "stream",
     "text": [
      "['V1', 'V1', 'I(V1)']\n"
     ]
    }
   ],
   "source": [
    "print(resultados['dc'].keys())"
   ]
  },
  {
   "cell_type": "code",
   "execution_count": 15,
   "metadata": {},
   "outputs": [
    {
     "name": "stdout",
     "output_type": "stream",
     "text": [
      "[array([0., 1., 2., 3., 4., 5., 6., 7., 8., 9.]), array([0., 1., 2., 3., 4., 5., 6., 7., 8., 9.]), array([ 0.  , -0.01, -0.02, -0.03, -0.04, -0.05, -0.06, -0.07, -0.08,\n",
      "       -0.09])]\n"
     ]
    }
   ],
   "source": [
    "print(resultados['dc'].values())"
   ]
  },
  {
   "cell_type": "markdown",
   "metadata": {},
   "source": [
    "Y ahora graficamos el resultado del análisis anterior. Concretamente vamos a representar el voltaje en el borne 1 (`V1`) con respecto a la intensidad del circuito (`I(V1)`)."
   ]
  },
  {
   "cell_type": "code",
   "execution_count": 16,
   "metadata": {},
   "outputs": [
    {
     "data": {
      "text/plain": [
       "<matplotlib.legend.Legend at 0x261d20984c0>"
      ]
     },
     "execution_count": 16,
     "metadata": {},
     "output_type": "execute_result"
    },
    {
     "data": {
      "image/png": "[encoded data removed]",
      "text/plain": [
       "<Figure size 432x288 with 1 Axes>"
      ]
     },
     "metadata": {
      "needs_background": "light"
     },
     "output_type": "display_data"
    }
   ],
   "source": [
    "figura = plt.figure()\n",
    "plt.title(\"Evolución de la Intensidad frente a variaciones de Voltaje\")\n",
    "plt.plot(resultados['dc']['V1'], abs(resultados['dc']['I(V1)']), label=\"Voltaje (V1)\")\n",
    "plt.xlabel(\"Voltaje (V)\")\n",
    "plt.ylabel(\"Intensidad (A)\")\n",
    "plt.legend()"
   ]
  },
  {
   "cell_type": "markdown",
   "metadata": {},
   "source": [
    "\n",
    "\n",
    "\n",
    "\n",
    "\n",
    "> **Pregunta 13:** comenta la gráfica anterior… ¿qué estamos viendo exactamente? Etiqueta los ejes de la misma convenientemente. Así como ningún número puede *viajar* solo sin hacer referencia a su naturaleza, ninguna gráfica puede estar sin sus ejes convenientemente etiquetados. Algo de [ayuda](https://matplotlib.org/3.1.0/gallery/pyplots/fig_axes_labels_simple.html). ¿Qué biblioteca estamos usando para graficar? Una [pista](https://matplotlib.org).\n",
    "\n",
    "\n",
    "\n",
    "\n"
   ]
  },
  {
   "cell_type": "markdown",
   "metadata": {},
   "source": [
    "En la gráfica podemos observar la evolución del flujo de corriente que circula por el circuito en función del voltaje aplicado sobre el mismo."
   ]
  },
  {
   "cell_type": "markdown",
   "metadata": {},
   "source": [
    "La biblioteca que estamos utilizando para graficar es Matplolib, que es una biblioteca de Python para el trazado en 2D de figuras con calidad de publicación. "
   ]
  },
  {
   "cell_type": "markdown",
   "metadata": {},
   "source": [
    " ### Resultados de la simulación `.op` \n",
    " El método `.results` nos devuelve un diccionario con los resultados de la simulación."
   ]
  },
  {
   "cell_type": "code",
   "execution_count": 17,
   "metadata": {},
   "outputs": [
    {
     "name": "stdout",
     "output_type": "stream",
     "text": [
      "{V1: -9.0, I(V1): -0.09}\n"
     ]
    }
   ],
   "source": [
    "print(resultados['op'].results)"
   ]
  },
  {
   "cell_type": "markdown",
   "metadata": {},
   "source": [
    "\n",
    " > **Pregunta 14:** justifica el sencillo resultado anterior (análisis `op`). Repite el cálculo con Sympy, atendiendo con mimo a las unidades y al formateo de los resultados (tal y como hemos visto en muchos otros notebooks en clase). "
   ]
  },
  {
   "cell_type": "code",
   "execution_count": 18,
   "metadata": {},
   "outputs": [],
   "source": [
    "from sympy import solve, symbols, Eq"
   ]
  },
  {
   "cell_type": "code",
   "execution_count": 19,
   "metadata": {},
   "outputs": [],
   "source": [
    "from sympy.physics.units.systems import SI"
   ]
  },
  {
   "cell_type": "code",
   "execution_count": 20,
   "metadata": {},
   "outputs": [],
   "source": [
    "from sympy.physics.units import ampere, volt, ohm"
   ]
  },
  {
   "cell_type": "code",
   "execution_count": 21,
   "metadata": {},
   "outputs": [],
   "source": [
    "from sympy.physics.units import convert_to"
   ]
  },
  {
   "cell_type": "markdown",
   "metadata": {},
   "source": [
    "Datos del problema:\n",
    "- `Voltaje:` = 9.0 volt\n",
    "- `Resistencia:` = 100.0 $ \\Omega$ "
   ]
  },
  {
   "cell_type": "code",
   "execution_count": 22,
   "metadata": {},
   "outputs": [],
   "source": [
    "voltaje = 9.0*volt"
   ]
  },
  {
   "cell_type": "code",
   "execution_count": 23,
   "metadata": {},
   "outputs": [],
   "source": [
    "resistencia = 100*ohm"
   ]
  },
  {
   "cell_type": "code",
   "execution_count": 24,
   "metadata": {},
   "outputs": [],
   "source": [
    "intensidad = symbols(\"I\")"
   ]
  },
  {
   "cell_type": "code",
   "execution_count": 25,
   "metadata": {},
   "outputs": [],
   "source": [
    "eq_ohm = Eq(voltaje, intensidad*resistencia)"
   ]
  },
  {
   "cell_type": "code",
   "execution_count": 26,
   "metadata": {},
   "outputs": [],
   "source": [
    "resultados = solve(eq_ohm, intensidad)"
   ]
  },
  {
   "cell_type": "code",
   "execution_count": 27,
   "metadata": {},
   "outputs": [
    {
     "data": {
      "text/plain": [
       "[0.09*volt/ohm]"
      ]
     },
     "execution_count": 27,
     "metadata": {},
     "output_type": "execute_result"
    }
   ],
   "source": [
    "resultados"
   ]
  },
  {
   "cell_type": "code",
   "execution_count": 28,
   "metadata": {},
   "outputs": [
    {
     "data": {
      "text/latex": [
       "$\\displaystyle 0.09 \\text{A}$"
      ],
      "text/plain": [
       "0.09*ampere"
      ]
     },
     "execution_count": 28,
     "metadata": {},
     "output_type": "execute_result"
    }
   ],
   "source": [
    "convert_to(resultados[0], ampere)"
   ]
  },
  {
   "cell_type": "markdown",
   "metadata": {},
   "source": [
    "## Resolución del mismo circuito pero con LTspice\n",
    "¿Cómo? ¿Es esto posible? ¿Desde Jupyter? Sí!!! Pero primero, por comodidad, deberíamos crear un alias del comando que apunte a nuestro ejecutable. Además, con un poco de inteligencia, podemos adelantarnos al hecho de si estamos en Windows o macOS:"
   ]
  },
  {
   "cell_type": "code",
   "execution_count": 29,
   "metadata": {},
   "outputs": [],
   "source": [
    "import platform\n",
    "%alias lts /Applications/LTspice.app/Contents/MacOS/LTspice -ascii -b\n",
    "if platform.system() == \"Windows\":\n",
    "    %alias lts \"C:\\Program Files\\LTC\\LTspiceXVII\\XVIIx64.exe\" -ascii -b"
   ]
  },
  {
   "cell_type": "markdown",
   "metadata": {},
   "source": [
    "\n",
    "> **Pregunta 15 :** ¿Qué significan las opciones `-b` y `-ascii`? Algo de ayuda [aquí](http://ltwiki.org/LTspiceHelp/LTspiceHelp/Command_Line_Switches.htm).\n"
   ]
  },
  {
   "cell_type": "markdown",
   "metadata": {},
   "source": [
    "La opción `-b` permite la simulación de LTspice mediante un proceso por lotes, lo que abre la puerta a su uso dentro de otro programa. La opción `-ascii` por su parte establece el uso de ASCII en los ficheros `.raw`"
   ]
  },
  {
   "cell_type": "markdown",
   "metadata": {},
   "source": [
    "También tenemos que cambiar ligeramente la sintaxis. Ejecuta esta línea para que se escriba el fichero siguiente. Para LTspice, vamos a reservar la extensión `.net`:"
   ]
  },
  {
   "cell_type": "code",
   "execution_count": 30,
   "metadata": {},
   "outputs": [
    {
     "name": "stdout",
     "output_type": "stream",
     "text": [
      "Overwriting circuito_sencillo.net\n"
     ]
    }
   ],
   "source": [
    "%%writefile \"circuito_sencillo.net\"\n",
    "* Este es un circuito sencillo adaptado para LTspice\n",
    "r1 1 0 100\n",
    "v1 0 1 9\n",
    ".op\n",
    "* Comentamos el análisis .dc para centrarnos primero en el .op\n",
    "* .dc v1 1 10 \n",
    ".end"
   ]
  },
  {
   "cell_type": "markdown",
   "metadata": {},
   "source": [
    "Ejecutamos LTspice con el circuito (de la misma manera que antes habíamos hecho con Ahkab)."
   ]
  },
  {
   "cell_type": "code",
   "execution_count": 31,
   "metadata": {},
   "outputs": [],
   "source": [
    "lts \"circuito_sencillo.net\""
   ]
  },
  {
   "cell_type": "markdown",
   "metadata": {},
   "source": [
    "Veamos el contenido de la simulación."
   ]
  },
  {
   "cell_type": "code",
   "execution_count": 32,
   "metadata": {},
   "outputs": [],
   "source": [
    "%pycat circuito_sencillo.log"
   ]
  },
  {
   "cell_type": "markdown",
   "metadata": {},
   "source": [
    "Ahora repitamos lo mismo para el análisis `.dc`:"
   ]
  },
  {
   "cell_type": "code",
   "execution_count": 33,
   "metadata": {},
   "outputs": [
    {
     "name": "stdout",
     "output_type": "stream",
     "text": [
      "Overwriting circuito_sencillo.net\n"
     ]
    }
   ],
   "source": [
    "%%writefile \"circuito_sencillo.net\"\n",
    "* Este es un circuito sencillo adaptado para LTspice\n",
    "r1 1 0 100\n",
    "v1 0 1 9\n",
    "* Ahora obviamos el análisis .op\n",
    "* .op\n",
    ".dc v1 1 10 \n",
    ".end\n"
   ]
  },
  {
   "cell_type": "code",
   "execution_count": 34,
   "metadata": {},
   "outputs": [],
   "source": [
    "lts \"circuito_sencillo.net\""
   ]
  },
  {
   "cell_type": "markdown",
   "metadata": {},
   "source": [
    "Al ejecutar esta simulación, se genera un fichero `.raw` con los resultados. Es muy parecido al `outfile` que hemos empleado antes con Ahkab. Para leer este fichero, tenemos que usar el paquete [ltspice de Python](https://github.com/DongHoonPark/ltspice_pytool), el cual podéis instalar directamente desde Jupyter:"
   ]
  },
  {
   "cell_type": "code",
   "execution_count": 35,
   "metadata": {},
   "outputs": [
    {
     "name": "stdout",
     "output_type": "stream",
     "text": [
      "Requirement already satisfied: ltspice in c:\\users\\domingo\\anaconda3\\lib\\site-packages (1.0.0)\n",
      "Requirement already satisfied: numpy in c:\\users\\domingo\\anaconda3\\lib\\site-packages (from ltspice) (1.19.2)\n"
     ]
    }
   ],
   "source": [
    "!pip install ltspice"
   ]
  },
  {
   "cell_type": "markdown",
   "metadata": {},
   "source": [
    "Ahora ya podemos leer este fichero `.raw` y pintar una recta de voltaje muy parecida a la que obtuvimos anteriormente con Ahkab:"
   ]
  },
  {
   "cell_type": "code",
   "execution_count": null,
   "metadata": {},
   "outputs": [],
   "source": [
    "import ltspice\n",
    "l = ltspice.Ltspice(\"circuito_sencillo.raw\")\n",
    "l.parse()\n",
    "tiempo = l.get_time()\n",
    "voltaje = abs(l.get_data('V(1)'))\n",
    "corriente = abs(l.get_data('I(V1)'))\n",
    "\n",
    "# Podemos pintar la corrente en función del tiempo\n",
    "plt.title(\"Evolución de la intensidad en función del tiempo\")\n",
    "plt.plot(tiempo, corriente, label=\"Voltaje\")\n",
    "plt.legend()\n",
    "plt.ylabel(\"Intensidad (A)\")\n",
    "plt.xlabel(\"Tiempo (s)\")\n",
    "\n",
    "# O el voltaje\n",
    "# plt.plot(voltaje, corriente)"
   ]
  },
  {
   "cell_type": "markdown",
   "metadata": {},
   "source": [
    "**En resumen:** hemos usado dos *compiladores* Spice distintos para hacer el mismo ejercicio. De igual manera podríamos haber usado [Ngspice](http://ngspice.sourceforge.net) u otro. De hecho, podíamos haber usado Ahkab en modo comando. Si tenemos correctamente instalado este framework, en princpio podemos invocarlo [directamente desde línea de comandos](https://ahkab.readthedocs.io/en/latest/help/Command-Line-Help.html):"
   ]
  },
  {
   "cell_type": "code",
   "execution_count": 37,
   "metadata": {},
   "outputs": [
    {
     "name": "stdout",
     "output_type": "stream",
     "text": [
      "2021-01-04 20:28:09"
     ]
    },
    {
     "name": "stderr",
     "output_type": "stream",
     "text": [
      "W: Locale appears not set! please export LANG=\"en_US.UTF-8\" or equivalent, \n",
      "W: or ahkab's unicode support is broken.\n"
     ]
    },
    {
     "name": "stdout",
     "output_type": "stream",
     "text": [
      "\n",
      "ahkab v. 0.18 (c) 2006-2015 Giuseppe Venturini\n",
      "\n",
      "Operating Point (OP) analysis\n",
      "\n",
      "Netlist: circuito_sencillo.sp\n",
      "Title: * este es un circuito sencillo\n",
      "At 300.00 K\n",
      "Options:\n",
      "\tvea = 1.000000e-06\n",
      "\tver = 0.001000\n",
      "\tiea = 1.000000e-09\n",
      "\tier = 0.001000\n",
      "\tgmin = 0.000000e+00\n",
      "\n",
      "Convergence reached in 2 iterations.\n",
      "\n",
      "========\n",
      "RESULTS:\n",
      "========\n",
      "\n",
      "Variable    Units      Value        Error    %\n",
      "----------  -------  -------  -----------  ---\n",
      "V1          V          -9     9.00001e-12    0\n",
      "I(V1)       A          -0.09  0              0\n",
      "\n",
      "========================\n",
      "ELEMENTS OP INFORMATION:\n",
      "========================\n",
      "\n",
      "Part ID      R [Ω]    V(n1,n2) [V]    I(n1->n2) [A]    P [W]\n",
      "---------  -------  --------------  ---------------  -------\n",
      "R1             100              -9            -0.09     0.81\n",
      "\n",
      "Part ID      V(n1,n2) [V]    I(n1->n2) [A]    P [W]\n",
      "---------  --------------  ---------------  -------\n",
      "V1                      9            -0.09    -0.81\n",
      "\n",
      "Total power dissipation: 0.81 W\n",
      "\n",
      "#V1\tV1\tI(V1)\n",
      "0.000000000000000000e+00\t0.000000000000000000e+00\t0.000000000000000000e+00\n",
      "1.000000000000000000e+00\t-1.000000000000000000e+00\t-1.000000000000000021e-02\n",
      "2.000000000000000000e+00\t-2.000000000000000000e+00\t-2.000000000000000042e-02\n",
      "3.000000000000000000e+00\t-3.000000000000000000e+00\t-2.999999999999999889e-02\n",
      "4.000000000000000000e+00\t-4.000000000000000000e+00\t-4.000000000000000083e-02\n",
      "5.000000000000000000e+00\t-5.000000000000000000e+00\t-5.000000000000000278e-02\n",
      "6.000000000000000000e+00\t-6.000000000000000000e+00\t-5.999999999999999778e-02\n",
      "7.000000000000000000e+00\t-7.000000000000000000e+00\t-7.000000000000000666e-02\n",
      "8.000000000000000000e+00\t-8.000000000000000000e+00\t-8.000000000000000167e-02\n",
      "9.000000000000000000e+00\t-9.000000000000000000e+00\t-8.999999999999999667e-02\n"
     ]
    }
   ],
   "source": [
    "!ahkab \"circuito_sencillo.sp\""
   ]
  },
  {
   "cell_type": "markdown",
   "metadata": {},
   "source": [
    "**Ejercicio premium**: Graficar los datos anteriores con [Gnuplot](http://www.gnuplot.info). "
   ]
  },
  {
   "cell_type": "code",
   "execution_count": null,
   "metadata": {},
   "outputs": [],
   "source": []
  },
  {
   "cell_type": "code",
   "execution_count": null,
   "metadata": {},
   "outputs": [],
   "source": [
    "!pip install gnuplot_kernel\n",
    "%load_ext gnuplot_kernel\n",
    "!pip install pandas"
   ]
  },
  {
   "cell_type": "code",
   "execution_count": 69,
   "metadata": {},
   "outputs": [],
   "source": [
    "#Guardamos los datos con Numpy y evitamos declarar un subproceso en Python \n",
    "import pandas as pd\n",
    "\n",
    "data = pd.DataFrame({'time': l.get_time(),'v1': abs(l.get_data('V(1)'))})\n",
    "data['v1'] = data['v1'] * -1\n",
    "data.to_csv(\"data.csv\", sep=';' ,index = False)"
   ]
  },
  {
   "cell_type": "code",
   "execution_count": null,
   "metadata": {},
   "outputs": [],
   "source": [
    "%%gnuplot\n",
    "reset session\n",
    "set title 'Interpretación gráfica dc circuito sencillo con CC'\n",
    "set xlabel 'time (s)'\n",
    "set ylabel 'Voltaje (V)'\n",
    "set datafile separator ';'\n",
    "set grid\n",
    "plot \"data.csv\" using 2:1 notitle with linespoints "
   ]
  },
  {
   "cell_type": "code",
   "execution_count": null,
   "metadata": {},
   "outputs": [],
   "source": []
  },
  {
   "cell_type": "code",
   "execution_count": null,
   "metadata": {},
   "outputs": [],
   "source": []
  },
  {
   "cell_type": "markdown",
   "metadata": {},
   "source": [
    " ## Análisis de circuito con resistencias en serie"
   ]
  },
  {
   "cell_type": "markdown",
   "metadata": {},
   "source": [
    "Vamos a resolver (en punto de operación) el siguiente circuito:\n",
    "\n",
    "![](https://raw.githubusercontent.com/pammacdotnet/spicelab/master/resistencias%20en%20serie.svg?sanitize=true)\n",
    "\n",
    "Al igual que antes, grabamos el netlist en disco desde Jupyter gracias a la *palabra mágica* [`%writefile`](https://ipython.readthedocs.io/en/stable/interactive/magics.html#cellmagic-writefile). Más info [aquí](https://ipython.readthedocs.io/en/stable/interactive/magics.html#cellmagic-writefile). "
   ]
  },
  {
   "cell_type": "code",
   "execution_count": null,
   "metadata": {},
   "outputs": [],
   "source": [
    "%%writefile \"resistencias_en_serie.net\"\n",
    "* circuito con tres resistencias en serie\n",
    "v1 1 0 type=vdc vdc=9\n",
    "R1 0 3 3k\n",
    "R2 3 2 10k  \n",
    "R3 2 1 5k\n",
    "* análisis del circuito\n",
    ".op\n",
    ".end"
   ]
  },
  {
   "cell_type": "code",
   "execution_count": null,
   "metadata": {},
   "outputs": [],
   "source": [
    "circuito_y_análisis = ahkab.netlist_parser.parse_circuit('resistencias en serie.net')\n",
    "circuito = circuito_y_análisis[0]       \n",
    "análisis_en_netlist = circuito_y_análisis[1]\n",
    "lista_de_análisis = ahkab.netlist_parser.parse_analysis(circuito, análisis_en_netlist)\n",
    "resultados = ahkab.run(circuito, lista_de_análisis)"
   ]
  },
  {
   "cell_type": "markdown",
   "metadata": {},
   "source": [
    "Imprimos los resultados del análisis `.op`:"
   ]
  },
  {
   "cell_type": "code",
   "execution_count": null,
   "metadata": {},
   "outputs": [],
   "source": [
    "print(resultados['op'])"
   ]
  },
  {
   "cell_type": "markdown",
   "metadata": {},
   "source": [
    "Los cantidades `V1`, `V2` y `V3` hacen referencia a los distintos valores del potencial que se ha perdido en cada uno de los bornes que has elegido para describir el netlist (`1`, `2`, etc.). Por ejemplo, podemos calcular el *potencial consumido* por la resistencia `R1` y verás que coincide con el del punto `V3` devuelto por Ahkab. "
   ]
  },
  {
   "cell_type": "markdown",
   "metadata": {},
   "source": [
    "**Ejercicio**: compruébalo tú mismo y refléjalo por escrito."
   ]
  },
  {
   "cell_type": "markdown",
   "metadata": {},
   "source": [
    "$$\n",
    "I_{total} = \\frac{V}{R_{t}} = \\frac{9\\ V}{18\\ k\\Omega} = 0.0005\\ A\n",
    "$$"
   ]
  },
  {
   "cell_type": "markdown",
   "metadata": {},
   "source": [
    "$$\n",
    "V_{3} = I \\cdot R_{1} = 0.0005\\ A \\cdot 3.000 \\Omega = 1.5\\ V\n",
    "$$"
   ]
  },
  {
   "cell_type": "markdown",
   "metadata": {},
   "source": [
    "Cargamos primero todo lo relacionado con Sympy:"
   ]
  },
  {
   "cell_type": "code",
   "execution_count": null,
   "metadata": {},
   "outputs": [],
   "source": [
    "from sympy.physics.units import ohms, amperes, volts\n",
    "from sympy.physics.units import convert_to"
   ]
  },
  {
   "cell_type": "code",
   "execution_count": null,
   "metadata": {},
   "outputs": [],
   "source": [
    "r1 = 3E3*ohms\n",
    "intensidad_ahkab = resultados['op']['I(V1)'][0][0]*amperes\n",
    "v3 = convert_to(abs(intensidad_ahkab)*r1, [volts])\n",
    "v3"
   ]
  },
  {
   "cell_type": "markdown",
   "metadata": {},
   "source": [
    "\n",
    "\n",
    "\n",
    "\n",
    "\n",
    " > **Pregunta 16**: reproduce el resto de los valores anteriores de manera *manual* mediante Sympy (es decir, aplicando la ley de Ohm, pero con un *toque computacional*). Te pongo aquí un ejemplo del que puedes partir… En él sólo calculo la corriente que circula por el circuito (sí, justo la que antes Ahkab ha devuelto de manera automática). Para ello necesito previamente computar la resistencia total (`r_total`). Faltarían el resto de resultados y convertirlos a unidades más *vistosas* (mediante la orden `convert_to` y `.n()`).\n",
    "\n",
    "\n",
    "\n",
    "\n",
    "\n",
    " "
   ]
  },
  {
   "cell_type": "code",
   "execution_count": null,
   "metadata": {},
   "outputs": [],
   "source": [
    "from sympy.physics.units import kilo\n",
    "from sympy import solve, symbols, Eq\n",
    "from sympy.physics.units import ohms, amperes, volts\n",
    "from sympy.physics.units import convert_to\n",
    "\n",
    "v = 9*volts\n",
    "r1 = 3*kilo*ohms\n",
    "r2 = 10*kilo*ohms\n",
    "r3 = 5*kilo*ohms\n",
    "\n",
    "r = r1 + r2 + r3\n",
    "\n",
    "i = symbols('i')\n",
    "\n",
    "ley_ohm = Eq(v, i*r)\n",
    "solucion_para_intensidad = solve(ley_ohm, i)\n",
    "convert_to(solucion_para_intensidad[0], [amperes]).n(2)"
   ]
  },
  {
   "cell_type": "code",
   "execution_count": null,
   "metadata": {},
   "outputs": [],
   "source": [
    "i = 0.0005*ampere\n",
    "\n",
    "v = symbols('v')\n",
    "\n",
    "ley_ohm = Eq(v, i*r1)\n",
    "solucion_para_v3 = solve(ley_ohm, v)\n",
    "convert_to(solucion_para_v3[0], [volt]).n(2)"
   ]
  },
  {
   "cell_type": "code",
   "execution_count": null,
   "metadata": {},
   "outputs": [],
   "source": [
    "i = 0.0005*ampere\n",
    "r = r1+r2\n",
    "v = symbols('v')\n",
    "\n",
    "ley_ohm = Eq(v, i*r)\n",
    "solucion_para_v2 = solve(ley_ohm, v)\n",
    "convert_to(solucion_para_v2[0], [volt]).n(2)"
   ]
  },
  {
   "cell_type": "code",
   "execution_count": null,
   "metadata": {},
   "outputs": [],
   "source": [
    "i = 0.0005*ampere\n",
    "r = r1 + r2 + r3\n",
    "v = symbols('v')\n",
    "\n",
    "ley_ohm = Eq(v, i*r)\n",
    "solucion_para_v1 = solve(ley_ohm, v)\n",
    "convert_to(solucion_para_v1[0], [volt]).n(2)"
   ]
  },
  {
   "cell_type": "markdown",
   "metadata": {},
   "source": [
    "> **Pregunta 17**: Demuestra que se cumple la Ley de Kirchhoff de la energía en un circuito, es decir, que la suma de la energía suministrada por las fuentes (pilas) es igual a la consumida por las resistencias. Realiza la operación con Sympy.\n",
    "\n",
    "$$\n",
    "\\sum_i^N V_{\\text{fuentes}} = \\sum_j^M V_{\\text{consumido en resistencias}}\n",
    "$$\n",
    "\n",
    "Ten en cuenta que en este caso sólo hay una fuente."
   ]
  },
  {
   "cell_type": "code",
   "execution_count": null,
   "metadata": {},
   "outputs": [],
   "source": [
    "i = 0.0005*ampere\n",
    "\n",
    "v = symbols('v')\n",
    "\n",
    "ley_ohm = Eq(v, i*r1)\n",
    "caida_de_tensión_en_r1= solve(ley_ohm, v)\n",
    "convert_to(caida_de_tensión_en_r1[0], [volt]).n(2)"
   ]
  },
  {
   "cell_type": "code",
   "execution_count": null,
   "metadata": {},
   "outputs": [],
   "source": [
    "i = 0.0005*ampere\n",
    "\n",
    "v = symbols('v')\n",
    "\n",
    "ley_ohm = Eq(v, i*r2)\n",
    "caida_de_tensión_en_r2 = solve(ley_ohm, v)\n",
    "convert_to(caida_de_tensión_en_r2[0], [volt]).n(2)"
   ]
  },
  {
   "cell_type": "code",
   "execution_count": null,
   "metadata": {},
   "outputs": [],
   "source": [
    "i = 0.0005*ampere\n",
    "\n",
    "v = symbols('v')\n",
    "\n",
    "ley_ohm = Eq(v, i*r3)\n",
    "caida_de_tensión_en_r3 = solve(ley_ohm, v)\n",
    "convert_to(caida_de_tensión_en_r3[0], [volt]).n(2)"
   ]
  },
  {
   "cell_type": "markdown",
   "metadata": {},
   "source": [
    "La suma de la energía suministrada por las fuentes (pilas) es igual a la consumida por las resistencias.\n",
    "\n",
    "$$\n",
    "9\\ V = 1.5\\ V + 5.0\\ V + 2.5\\ V\n",
    "$$"
   ]
  },
  {
   "cell_type": "markdown",
   "metadata": {},
   "source": [
    "## Análisis `.op` de circuitos con resistencias en paralelo\n",
    "\n",
    "Vamos a complicar un poco el trabajo añadiendo elementos en paralelo.\n",
    "\n",
    "\n",
    "\n",
    "\n",
    "\n",
    "\n",
    "\n",
    " > **Pregunta 18**: realiza los análisis `.op` de los siguientes circuitos.\n",
    " Para ello crea un netlist separado para cada uno donde queden correctamente descritos\n",
    " junto con la simulación (`.op`). Comenta los resultados que devuelve Ahkab (no imprimas los resultados de las simulaciones *sin más*).\n",
    "\n",
    " ![](https://raw.githubusercontent.com/pammacdotnet/spicelab/master/resistencias%20en%20paralelo.svg?sanitize=true)\n",
    "\n",
    "\n",
    "\n",
    " \n",
    "\n",
    " Aquí tienes el análisis del primer circuito, para que sirva de ejemplo:"
   ]
  },
  {
   "cell_type": "markdown",
   "metadata": {},
   "source": [
    "#### Resistencias en paralelo 1"
   ]
  },
  {
   "cell_type": "code",
   "execution_count": null,
   "metadata": {},
   "outputs": [],
   "source": [
    "%%writefile \"resistencias_en_paralelo_1.cir\"\n",
    "* resistencias en paralelo\n",
    "vdd 0 1 vdc=12 type=vdc\n",
    "r1 1 2 1k\n",
    "r2 2 0 470\n",
    "r3 2 3 220\n",
    "r4 3 0 1.5k\n",
    ".op\n",
    ".end"
   ]
  },
  {
   "cell_type": "code",
   "execution_count": null,
   "metadata": {},
   "outputs": [],
   "source": [
    "circuito_y_análisis = ahkab.netlist_parser.parse_circuit('resistencias_en_paralelo_1.cir')\n",
    "circuito = circuito_y_análisis[0]       \n",
    "análisis_en_netlist = circuito_y_análisis[1]\n",
    "lista_de_análisis = ahkab.netlist_parser.parse_analysis(circuito, análisis_en_netlist)\n",
    "resultados = ahkab.run(circuito, lista_de_análisis)"
   ]
  },
  {
   "cell_type": "markdown",
   "metadata": {},
   "source": [
    "Imprimimos los resultados del análisis `.op`. Como puedes comprobar, Ahkab sólo reporta la intensidad de corriente en las ramas en las que hay una pila (en este caso, la rama donde está la pila `VDD`)."
   ]
  },
  {
   "cell_type": "code",
   "execution_count": null,
   "metadata": {},
   "outputs": [],
   "source": [
    "print(resultados['op'])"
   ]
  },
  {
   "cell_type": "markdown",
   "metadata": {},
   "source": [
    "#### Resistencias en paralelo 2"
   ]
  },
  {
   "cell_type": "code",
   "execution_count": null,
   "metadata": {},
   "outputs": [],
   "source": [
    "%%writefile \"resistencias_en_paralelo_2.cir\"\n",
    "* resistencias en paralelo\n",
    "v1 0 1 vdc=9 type=vdc\n",
    "v2 0 2 vdc=1.5 type=vdc\n",
    "r1 1 3 47\n",
    "r2 3 4 220 \n",
    "r3 3 2 180\n",
    "r4 4 5 1k\n",
    "r5 5 0 560\n",
    ".op\n",
    ".end"
   ]
  },
  {
   "cell_type": "code",
   "execution_count": null,
   "metadata": {},
   "outputs": [],
   "source": [
    "circuito_y_análisis = ahkab.netlist_parser.parse_circuit('resistencias_en_paralelo_2.cir')\n",
    "circuito = circuito_y_análisis[0]       \n",
    "análisis_en_netlist = circuito_y_análisis[1]\n",
    "lista_de_análisis = ahkab.netlist_parser.parse_analysis(circuito, análisis_en_netlist)\n",
    "resultados = ahkab.run(circuito, lista_de_análisis)"
   ]
  },
  {
   "cell_type": "code",
   "execution_count": null,
   "metadata": {},
   "outputs": [],
   "source": [
    "print(resultados['op'])"
   ]
  },
  {
   "cell_type": "markdown",
   "metadata": {},
   "source": []
  },
  {
   "cell_type": "markdown",
   "metadata": {},
   "source": [
    "#### Resistencias en paralelo 3"
   ]
  },
  {
   "cell_type": "code",
   "execution_count": null,
   "metadata": {},
   "outputs": [],
   "source": [
    "%%writefile \"resistencias_en_paralelo_3.cir\"\n",
    "* resistencias en paralelo\n",
    "v 0 1 vdc=9 type=vdc\n",
    "v1 0 2 vdc=0 type=vdc\n",
    "v2 0 3 vdc=0 type=vdc\n",
    "v3 0 4 vdc=0 type=vdc\n",
    "r1 1 2 10k\n",
    "r2 1 3 2k \n",
    "r3 1 4 1k\n",
    ".op\n",
    ".end"
   ]
  },
  {
   "cell_type": "code",
   "execution_count": null,
   "metadata": {},
   "outputs": [],
   "source": [
    "circuito_y_análisis = ahkab.netlist_parser.parse_circuit('resistencias_en_paralelo_3.cir')\n",
    "circuito = circuito_y_análisis[0]       \n",
    "análisis_en_netlist = circuito_y_análisis[1]\n",
    "lista_de_análisis = ahkab.netlist_parser.parse_analysis(circuito, análisis_en_netlist)\n",
    "resultados = ahkab.run(circuito, lista_de_análisis)"
   ]
  },
  {
   "cell_type": "code",
   "execution_count": null,
   "metadata": {},
   "outputs": [],
   "source": [
    "print(resultados['op'])"
   ]
  },
  {
   "cell_type": "markdown",
   "metadata": {},
   "source": []
  },
  {
   "cell_type": "markdown",
   "metadata": {},
   "source": [
    "> **Pregunta 19:** inserta dos *pilas virtuales* de 0 voltios en el resto de ramas del circuito (`Vdummy1` en la rama donde está `R2` y `Vdummy2` en la rama donde está `R3` y `R4`) para que Ahkab nos imprima también la corriente en las mismas. Es muy parecido al tercer circuito que tienes que resolver, donde `V1`, `V2` y `V3` tienen cero voltios. Estas *pilas nulas* son, a todos los efectos, *simples cables*. Una vez que ya tienes las corrientes en todas las ramas, comprueba que se cumple la Ley de Kirchhoff para las corrientes:\n",
    "\n",
    "$$\n",
    "I_{\\text{entrante}} = \\sum_i^{N} I_{\\text{salientes}}\n",
    "$$"
   ]
  },
  {
   "cell_type": "markdown",
   "metadata": {},
   "source": [
    "#### Resistencias en paralelo 1 con pilas virtuales"
   ]
  },
  {
   "cell_type": "code",
   "execution_count": null,
   "metadata": {},
   "outputs": [],
   "source": [
    "%%writefile \"resistencias_en_paralelo_1_dummy.cir\"\n",
    "* resistencias en paralelo\n",
    "vdd 0 1 vdc=12 type=vdc\n",
    "vdummy1 2 4 vdc=0 type=vdc\n",
    "vdummy2 3 5 vdc=0 type=vdc\n",
    "r1 1 2 1k\n",
    "r2 4 0 470\n",
    "r3 2 3 220\n",
    "r4 5 0 1.5k\n",
    ".op\n",
    ".end"
   ]
  },
  {
   "cell_type": "code",
   "execution_count": null,
   "metadata": {},
   "outputs": [],
   "source": [
    "circuito_y_análisis = ahkab.netlist_parser.parse_circuit('resistencias en paralelo 1 dummy.cir')\n",
    "circuito = circuito_y_análisis[0]       \n",
    "análisis_en_netlist = circuito_y_análisis[1]\n",
    "lista_de_análisis = ahkab.netlist_parser.parse_analysis(circuito, análisis_en_netlist)\n",
    "resultados = ahkab.run(circuito, lista_de_análisis)"
   ]
  },
  {
   "cell_type": "code",
   "execution_count": null,
   "metadata": {},
   "outputs": [],
   "source": [
    "print(resultados['op'])"
   ]
  },
  {
   "cell_type": "markdown",
   "metadata": {},
   "source": [
    "A partir de los resultados obtenidos podemos comprobar que se cumple:\n",
    "\n",
    "$$\n",
    "I_{\\text{entrante}} = \\sum_i^{N} I_{\\text{salientes}}\n",
    "$$\n",
    "\n",
    "$$\n",
    "I(VDD) = I(VDUMMY1) + I(VDUMMY2)\n",
    "$$\n",
    "\n",
    "$$\n",
    "-0.00876467\\ A = -0.00688367\\ A + (-0.001881)\\ A\n",
    "$$"
   ]
  },
  {
   "cell_type": "markdown",
   "metadata": {},
   "source": [
    "Repite lo mismo para los otros dos circuitos. Realiza además los cálculos con Sympy (recalcula los mismos voltajes que devuelve Ahkab a partir de la corriente que sí te devuelve la simulación) y cuidando de no olvidar las unidades. Recuerda que el objeto `resultados` alberga toda la información que necesitas de manera indexada. Ya han aparecido un ejemplo más arriba. Es decir: no *copies* los números *a mano*, trabaja de manera informáticamente elegante (usando la variable `resultados`). "
   ]
  },
  {
   "cell_type": "markdown",
   "metadata": {},
   "source": [
    "#### Resistencias en paralelo 2 con pilas virtuales"
   ]
  },
  {
   "cell_type": "code",
   "execution_count": null,
   "metadata": {},
   "outputs": [],
   "source": []
  },
  {
   "cell_type": "markdown",
   "metadata": {},
   "source": [
    "#### Resistencias en paralelo 3 con pilas virtuales"
   ]
  },
  {
   "cell_type": "code",
   "execution_count": null,
   "metadata": {},
   "outputs": [],
   "source": []
  },
  {
   "cell_type": "markdown",
   "metadata": {},
   "source": [
    " # Circuitos en DC que evolucionan con el tiempo"
   ]
  },
  {
   "cell_type": "markdown",
   "metadata": {},
   "source": [
    " ## Carga de un condensador\n",
    " Vamos a ver qué le pasa a un circuito de corriente continua cuando tiene un condensador\n",
    " en serie.\n",
    "\n",
    " ![](https://raw.githubusercontent.com/pammacdotnet/spicelab/master/condensador%20en%20continua.svg?sanitize=true)\n",
    "\n",
    " Al igual que antes, primero guardamos el circuito en un netlist externo:"
   ]
  },
  {
   "cell_type": "code",
   "execution_count": null,
   "metadata": {},
   "outputs": [],
   "source": [
    "%%writefile \"condensador_en_continua.ckt\"\n",
    "* Carga condensador\n",
    "v1 0 1 type=vdc vdc=6\n",
    "r1 1 2 1k\n",
    "c1 2 0 1m ic=0\n",
    ".op\n",
    ".tran tstep=0.1 tstop=8 uic=0\n",
    ".end"
   ]
  },
  {
   "cell_type": "markdown",
   "metadata": {},
   "source": [
    "\n",
    "> **Pregunta 20:** ¿qué significa el parámetro `ic=0`? ¿qué perseguimos con un análisis de tipo `.tran`?\n"
   ]
  },
  {
   "cell_type": "markdown",
   "metadata": {},
   "source": [
    "El comando `.tran` realiza un análisis en el tiempo de los parámetros del circuito. Si no se emplea la directiva uic (use initial conditions) o esta es igual a cero, este análisis se realiza desde el punto estable de funcionamiento del circuito hasta un tiempo tfinal, y en intervalos tstep.\n",
    "\n",
    "Si empleamos un varlor distinto para parámetro uic, entonces se hará uso de las condiciones iniciales definidas para cada componente (típicamente ic=X en el caso de los condensadores, que da cuenta de la carga incial que estos pudieran tener)"
   ]
  },
  {
   "cell_type": "markdown",
   "metadata": {},
   "source": [
    "Leamos el circuito:"
   ]
  },
  {
   "cell_type": "code",
   "execution_count": null,
   "metadata": {},
   "outputs": [],
   "source": [
    "circuito_y_análisis = ahkab.netlist_parser.parse_circuit(\"condensador_en_continua.ckt\")"
   ]
  },
  {
   "cell_type": "markdown",
   "metadata": {},
   "source": [
    " Separamos el netlist de los análisis y asignamos un fichero de almacenamiento de datos (`outfile`):"
   ]
  },
  {
   "cell_type": "code",
   "execution_count": null,
   "metadata": {},
   "outputs": [],
   "source": [
    "circuito = circuito_y_análisis[0]\n",
    "análisis_en_netlist = circuito_y_análisis[1]\n",
    "lista_de_análisis = ahkab.netlist_parser.parse_analysis(circuito, análisis_en_netlist)\n",
    "lista_de_análisis[1]['outfile'] = \"simulación_tran.tsv\""
   ]
  },
  {
   "cell_type": "markdown",
   "metadata": {},
   "source": [
    " Ejecutamos la simulación:"
   ]
  },
  {
   "cell_type": "code",
   "execution_count": null,
   "metadata": {},
   "outputs": [],
   "source": [
    "resultados = ahkab.run(circuito, lista_de_análisis)\n",
    "print(resultados['op'])"
   ]
  },
  {
   "cell_type": "code",
   "execution_count": null,
   "metadata": {},
   "outputs": [],
   "source": [
    "print(resultados['tran'].keys())"
   ]
  },
  {
   "cell_type": "code",
   "execution_count": null,
   "metadata": {},
   "outputs": [],
   "source": [
    "print(resultados['tran'].values())"
   ]
  },
  {
   "cell_type": "markdown",
   "metadata": {},
   "source": [
    " Dibujamos la gráfica de carga del condensador con el tiempo, centrándonos en la intensidad que circula por la pila. "
   ]
  },
  {
   "cell_type": "code",
   "execution_count": null,
   "metadata": {},
   "outputs": [],
   "source": [
    "figura = plt.figure()\n",
    "\n",
    "plt.title(\"Carga de un condensador\")\n",
    "plt.plot(resultados['tran']['T'], resultados['tran']['I(V1)'], label=\"Una etiqueta\")"
   ]
  },
  {
   "cell_type": "markdown",
   "metadata": {},
   "source": [
    "\n",
    "> **Pregunta 21:** Etiqueta los ejes convenientemente y comenta la gráfica. Dibuja otra gráfica con el voltaje en el borne `V2`. ¿Por qué son *opuestas*? ¿Qué le ocurre al voltaje a medida que evoluciona el circuito en el tiempo? Dibuja las gráficas en un formato estándar de representación vectorial (SVG, por ejemplo). Algo de ayuda [aquí](https://ipython.readthedocs.io/en/stable/api/generated/IPython.display.html#IPython.display.set_matplotlib_formats). ¿Qué valores devuelve el análisis de tipo `.op`? Justifícalo.\n"
   ]
  },
  {
   "cell_type": "markdown",
   "metadata": {},
   "source": [
    "Con la idea de hacer las gráficas lo más legible posible, hemos decidido mostrarlas haciendo uso del valor absoluto de dos distindos campos.\n",
    "\n",
    "La primera grafíca muestra la evolución en el tiempo de la intensidad de corriente que circula por el circuito, pudiendo observar que esta va decreciendo en función de la carga del condensador, de forma que una vez alcanzada la carga máxima, la corriente en el circuito es cero.\n",
    "\n",
    "En la segunda gráfica observamos la evolución del voltaje en relación al tiempo, observando que este se ve incrementado en el tiempo hasta que el condensador alcanza su carga máxima, a partir de este isntante permanece constante.\n",
    "\n",
    "Los valores que devuleve el análisis op, son los correspondientes al circuito en su estado estable, por lo tanto el condensador se encontraría totalmente cargado, impidiendo la circulación de corriente por el circuito (I(V1) = 0 A) y manteniendo la diferencia de potencial entre los bornes de este igualada a la tensión de alimentación (V1, V2 = 6 V)"
   ]
  },
  {
   "cell_type": "code",
   "execution_count": null,
   "metadata": {},
   "outputs": [],
   "source": [
    "import matplotlib.pyplot as plt\n",
    "from IPython.display import set_matplotlib_formats\n",
    "%matplotlib inline\n",
    "set_matplotlib_formats('svg')"
   ]
  },
  {
   "cell_type": "code",
   "execution_count": null,
   "metadata": {},
   "outputs": [],
   "source": [
    "lista_de_análisis[[i for i, d in enumerate(lista_de_análisis) if \"dc\" or \"tran\" in d.values()][0]]['outfile'] = \"simulación dc-tran.tsv\""
   ]
  },
  {
   "cell_type": "code",
   "execution_count": null,
   "metadata": {},
   "outputs": [],
   "source": [
    "resultados = ahkab.run(circuito, lista_de_análisis)"
   ]
  },
  {
   "cell_type": "code",
   "execution_count": null,
   "metadata": {},
   "outputs": [],
   "source": [
    "fig = plt.figure()\n",
    "fig.subplots_adjust(top=2)\n",
    "\n",
    "ax1 = fig.add_subplot(211)\n",
    "ax1.set_title('Evolución de la intensidad en el circuito')\n",
    "ax1.set_ylabel('Intensidad (A)')\n",
    "ax1.set_xlabel('Tiempo (s)')\n",
    "\n",
    "I = abs(resultados['tran']['I(V1)'])\n",
    "t = abs(resultados['tran']['T'])\n",
    "line, = ax1.plot(t, I, lw=2)\n",
    "\n",
    "plt.show()"
   ]
  },
  {
   "cell_type": "code",
   "execution_count": null,
   "metadata": {},
   "outputs": [],
   "source": [
    "fig = plt.figure()\n",
    "fig.subplots_adjust(top=2)\n",
    "\n",
    "ax1 = fig.add_subplot(211)\n",
    "ax1.set_title('Diferencia de potencial en el condensador durante el proceso de carga')\n",
    "ax1.set_ylabel('Voltaje (V)')\n",
    "ax1.set_xlabel('Tiempo (s)')\n",
    "\n",
    "I = abs(resultados['tran']['V2'])\n",
    "v = abs(resultados['tran']['T'])\n",
    "line, = ax1.plot(v, I, lw=2)\n",
    "\n",
    "plt.show()"
   ]
  },
  {
   "cell_type": "markdown",
   "metadata": {},
   "source": [
    "# Carrera de condensadores\n",
    "\n",
    "Ahora tenemos un circuito con dos condensadores en paralelo: \n",
    "\n",
    "![](https://raw.githubusercontent.com/pammacdotnet/spicelab/master/condensadores%20en%20paralelo.svg?sanitize=true)\n",
    "\n",
    "\n",
    "\n",
    "\n",
    "\n",
    "> **Pregunta 22:** Crea el netlist de este circuito e identifica qué condensador se satura primero. Dibuja la evolución de la intensidad en ambas ramas de manera simultánea. [Aquí](https://matplotlib.org/gallery/api/two_scales.html) tienes un ejemplo de cómo se hace esto en Matplotlib. Recuerda que para que Ahkab nos devuelva la corriente en una rama, debe de estar presente una pila. Si es necesario, inserta pilas virtuales de valor nulo (cero voltios), tal y como hemos comentado antes. Grafica también los voltajes (en otra gráfica, pero que aparezcan juntos). \n",
    "\n",
    "\n",
    "\n",
    "\n",
    "\n"
   ]
  },
  {
   "cell_type": "code",
   "execution_count": null,
   "metadata": {},
   "outputs": [],
   "source": [
    "%%writefile \"carrera_de_condensadores.ckt\"\n",
    "* Carga condensador\n",
    "v0 0 1 type=vdc vdc=10\n",
    "r1 0 2 3.3k\n",
    "c1 2 3 47u ic=0\n",
    "v1dummy 3 1 type=vdc vdc=0\n",
    "\n",
    "c2 2 4 22u ic=0\n",
    "v2dummy 4 1 type=vdc vdc=0\n",
    "\n",
    ".tran tstep=0.01 tstart=6.5 tstop=7.5 uic=0\n",
    ".end"
   ]
  },
  {
   "cell_type": "code",
   "execution_count": null,
   "metadata": {},
   "outputs": [],
   "source": [
    "circuito_y_análisis = ahkab.netlist_parser.parse_circuit(\"carrera_de_condensadores.ckt\")\n",
    "circuito = circuito_y_análisis[0]       \n",
    "análisis_en_netlist = circuito_y_análisis[1]\n",
    "lista_de_análisis = ahkab.netlist_parser.parse_analysis(circuito, análisis_en_netlist)\n",
    "lista_de_análisis[0]['outfile'] = \"simulación_tran_carrera_condensadores.tsv\"\n",
    "resultados = ahkab.run(circuito, lista_de_análisis)"
   ]
  },
  {
   "cell_type": "code",
   "execution_count": null,
   "metadata": {},
   "outputs": [],
   "source": [
    "print(resultados['tran'].keys())"
   ]
  },
  {
   "cell_type": "code",
   "execution_count": null,
   "metadata": {},
   "outputs": [],
   "source": [
    "print(resultados['tran']['V1'])"
   ]
  },
  {
   "cell_type": "code",
   "execution_count": null,
   "metadata": {},
   "outputs": [],
   "source": [
    "print(resultados['tran'].values())"
   ]
  },
  {
   "cell_type": "code",
   "execution_count": null,
   "metadata": {},
   "outputs": [],
   "source": [
    "fig = plt.figure()\n",
    "\n",
    "plt.xlim(6.65, 7.5)\n",
    "plt.ylim(0.0, 0.0005)\n",
    "plt.grid()\n",
    "plt.plot(resultados['tran']['T'], resultados['tran']['I(V1DUMMY)'])\n",
    "plt.plot(resultados['tran']['T'], resultados['tran']['I(V2DUMMY)'])\n",
    "\n",
    "plt.title(\"Carrera de condensadores\")\n",
    "plt.ylabel(\"Intensidad (A)\")                      \n",
    "plt.xlabel(\"Tiempo (s)\")              \n",
    "plt.show()"
   ]
  },
  {
   "cell_type": "code",
   "execution_count": 1,
   "metadata": {
    "scrolled": false
   },
   "outputs": [],
   "source": [
    "fig = plt.figure()\n",
    "\n",
    "plt.xlim(6.5, 7.5)\n",
    "plt.ylim(0, 10.0)\n",
    "plt.grid()\n",
    "plt.plot(resultados['tran']['T'], abs(resultados['tran']['V2']))\n",
    "#plt.plot(resultados['tran']['T'], resultados['tran']['V4'])\n",
    "\n",
    "plt.title(\"Carrera de condensadores\")\n",
    "plt.ylabel(\"Voltaje (V)\")                      \n",
    "plt.xlabel(\"Tiempo (s)\")              \n",
    "plt.show()"
   ]
  },
  {
   "cell_type": "markdown",
   "metadata": {},
   "source": [
    "**Ejercicio premium:** Repite la simulación con LTspice (invocándolo como comando externo, leyendo los datos de un fichero `.raw` y volviendo a graficar con Matplotlib. "
   ]
  },
  {
   "cell_type": "markdown",
   "metadata": {},
   "source": []
  },
  {
   "cell_type": "markdown",
   "metadata": {},
   "source": [
    "## Circuitos en corriente alterna\n",
    "\n",
    "\n",
    "\n",
    "\n",
    "\n",
    "\n",
    "\n",
    "\n",
    "\n",
    "**Ejercicio:** Simula este circuito con LTspice y representa el voltaje y la intensidad en función del tiempo. Traduce este ejercicio a la versión Spice de Akhab y haz la misma representación. Ahkab utiliza otra sintaxis para expresar la corriente alterna. Esta está descrita en la [documentación](https://ahkab.readthedocs.io/en/latest/help/Netlist-Syntax.html#id24). "
   ]
  },
  {
   "cell_type": "code",
   "execution_count": null,
   "metadata": {},
   "outputs": [],
   "source": [
    "%%writefile \"corriente_alterna.net\"\n",
    "* Circuito en corriente alterna\n",
    "v1 1 0 sin(0 120 60 0 0)\n",
    "r1 0 1 10k\n",
    ".tran 1\n",
    ".end"
   ]
  },
  {
   "cell_type": "code",
   "execution_count": null,
   "metadata": {},
   "outputs": [],
   "source": [
    "lts \"corriente_alterna.net\""
   ]
  },
  {
   "cell_type": "markdown",
   "metadata": {},
   "source": [
    "# Resumen de lo que se pide\n",
    "Volved a realizar todos los ejercicios y demos en vuestro propio notebook, explicando con vuestras palabras cada paso, cada gráfica y respondiendo a cada pregunta. Cuidad la belleza, coherencia, narración, explicaciones y gráficas. Todas las gráficas se han pintado con Matplotlib, que es una biblioteca extendidísima en ciencia y tecnología. Es muuuuy bueno que la conozcáis. [Aquí](https://matplotlib.org/tutorials/introductory/pyplot.html) tenéis muchos ejemplos. "
   ]
  },
  {
   "cell_type": "code",
   "execution_count": null,
   "metadata": {},
   "outputs": [],
   "source": []
  },
  {
   "cell_type": "code",
   "execution_count": null,
   "metadata": {},
   "outputs": [],
   "source": []
  }
 ],
 "metadata": {
  "file_extension": ".py",
  "kernel_info": {
   "name": "python3"
  },
  "kernelspec": {
   "display_name": "gnuplot",
   "language": "gnuplot",
   "name": "gnuplot"
  },
  "language_info": {
   "codemirror_mode": {
    "name": "ipython",
    "version": 3
   },
   "file_extension": ".py",
   "mimetype": "text/x-python",
   "name": "python",
   "nbconvert_exporter": "python",
   "pygments_lexer": "ipython3",
   "version": "3.8.5"
  },
  "mimetype": "text/x-python",
  "name": "python",
  "npconvert_exporter": "python",
  "nteract": {
   "version": "0.27.0"
  },
  "pygments_lexer": "ipython3",
  "version": 3
 },
 "nbformat": 4,
 "nbformat_minor": 2
}